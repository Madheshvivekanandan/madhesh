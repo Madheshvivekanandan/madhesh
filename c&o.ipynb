{
 "cells": [
  {
   "cell_type": "code",
   "execution_count": 11,
   "metadata": {},
   "outputs": [
    {
     "name": "stdout",
     "output_type": "stream",
     "text": [
      "abc\n"
     ]
    }
   ],
   "source": [
    "#class and object\n",
    "class mad():\n",
    "    #def f(x):\n",
    "        #return(x*2)\n",
    "    b=\"abc\"\n",
    "a=mad()\n",
    "print(a.b)"
   ]
  },
  {
   "cell_type": "code",
   "execution_count": 12,
   "metadata": {},
   "outputs": [
    {
     "name": "stdout",
     "output_type": "stream",
     "text": [
      "15\n",
      "55\n"
     ]
    }
   ],
   "source": [
    "class a():\n",
    "    def __init__(self):\n",
    "        return None\n",
    "    def b(s):\n",
    "        return s+10\n",
    "m=a()\n",
    "print(a.b(5))\n",
    "print(a.b(5*9))"
   ]
  },
  {
   "cell_type": "code",
   "execution_count": 13,
   "metadata": {},
   "outputs": [
    {
     "name": "stdout",
     "output_type": "stream",
     "text": [
      "balance 9999\n"
     ]
    }
   ],
   "source": [
    "class bank():\n",
    "    def __init__(self,name,acc,bal):\n",
    "        self.name=name\n",
    "        self.acc=acc\n",
    "        self.bal=bal\n",
    "    def depo(self,amount):\n",
    "        self.bal=self.bal+amount\n",
    "        return (\"balance \"+str(self.bal))\n",
    "    def  withdraw(self,amount):\n",
    "        self.bal=self.bal-amount\n",
    "        return (\"balance \"+str(self.bal))\n",
    "m=bank(\"madhesh\",1233456,10000)\n",
    "m.depo(10)\n",
    "print(m.withdraw(11))"
   ]
  },
  {
   "cell_type": "code",
   "execution_count": 1,
   "metadata": {},
   "outputs": [
    {
     "name": "stdout",
     "output_type": "stream",
     "text": [
      "black\n"
     ]
    }
   ],
   "source": [
    "#inheritance\n",
    "class f():\n",
    "    def hair(self):\n",
    "        return \"black\"\n",
    "class s(f):\n",
    "    def nose(self):\n",
    "        return \"red\"\n",
    "a=s()\n",
    "print(a.hair())"
   ]
  },
  {
   "cell_type": "code",
   "execution_count": 10,
   "metadata": {},
   "outputs": [
    {
     "name": "stdout",
     "output_type": "stream",
     "text": [
      "red\n"
     ]
    }
   ],
   "source": [
    "#package creation\n",
    "import package as p\n",
    "b=p.s()\n",
    "print(b.nose())\n"
   ]
  },
  {
   "cell_type": "code",
   "execution_count": 14,
   "metadata": {},
   "outputs": [
    {
     "name": "stdout",
     "output_type": "stream",
     "text": [
      "black\n"
     ]
    }
   ],
   "source": [
    "#multilevel\n",
    "class f():\n",
    "    def hair(self):\n",
    "        return \"black\"\n",
    "class s(f):\n",
    "    def nose(self):\n",
    "        return \"red\"\n",
    "class gs(s):\n",
    "    def eye(self):\n",
    "        return \"white\"\n",
    "a=gs()\n",
    "print(a.hair())"
   ]
  },
  {
   "cell_type": "code",
   "execution_count": 16,
   "metadata": {},
   "outputs": [
    {
     "name": "stdout",
     "output_type": "stream",
     "text": [
      "black\n",
      "red\n"
     ]
    }
   ],
   "source": [
    "#multiple inheritance\n",
    "class f():\n",
    "    def hair(self):\n",
    "        return \"black\"\n",
    "class s():\n",
    "    def nose(self):\n",
    "        return \"red\"\n",
    "class gs(s,f):\n",
    "    def eye(self):\n",
    "        return \"white\"\n",
    "a=gs()\n",
    "print(a.hair())\n",
    "print(a.nose())"
   ]
  },
  {
   "cell_type": "code",
   "execution_count": 17,
   "metadata": {},
   "outputs": [
    {
     "name": "stdout",
     "output_type": "stream",
     "text": [
      "black\n",
      "red\n",
      "white\n"
     ]
    }
   ],
   "source": [
    "#Hybrid Inheritance\n",
    "class f():\n",
    "    def hair(self):\n",
    "        return \"black\"\n",
    "class s():\n",
    "    def nose(self):\n",
    "        return \"red\"\n",
    "class gs(s,f):\n",
    "    def eye(self):\n",
    "        return \"white\"\n",
    "class small(gs):\n",
    "    def summa(self):\n",
    "        return \"hi\"\n",
    "a=small()\n",
    "print(a.hair())\n",
    "print(a.nose())\n",
    "print(a.eye())"
   ]
  },
  {
   "cell_type": "code",
   "execution_count": 19,
   "metadata": {},
   "outputs": [
    {
     "name": "stdout",
     "output_type": "stream",
     "text": [
      "red\n",
      "abcdef\n"
     ]
    }
   ],
   "source": [
    "#polymarphism\n",
    "class f():\n",
    "    def hair(self):\n",
    "        return \"black\"\n",
    "class s():\n",
    "    def nose(self):\n",
    "        return \"red\"\n",
    "class gs(s,f):\n",
    "    def eye(self):\n",
    "        return \"white\"\n",
    "class small(gs):\n",
    "    def summa(self):\n",
    "        return \"hi\"\n",
    "    def nose(self):\n",
    "        return \"abcdef\"\n",
    "a=gs()\n",
    "b=small()\n",
    "print(a.nose())\n",
    "print(b.nose())"
   ]
  },
  {
   "cell_type": "code",
   "execution_count": 20,
   "metadata": {},
   "outputs": [
    {
     "name": "stdout",
     "output_type": "stream",
     "text": [
      "100\n",
      "1000000\n",
      "-500\n"
     ]
    }
   ],
   "source": [
    "#without encapsulation\n",
    "class BankAccount:\n",
    "   def __init__(self, account_number, balance):\n",
    "       self.account_number = account_number\n",
    "       self.balance = balance  # Public attribute\n",
    "\n",
    "\n",
    "   def deposit(self, amount):\n",
    "       self.balance += amount\n",
    "       return self.balance\n",
    "\n",
    "\n",
    "   def withdraw(self, amount):\n",
    "       if amount > self.balance:\n",
    "           print(\"Insufficient funds!\")\n",
    "           return\n",
    "       self.balance -= amount\n",
    "       return self.balance\n",
    "\n",
    "\n",
    "   def get_balance(self):\n",
    "       return self.balance\n",
    "account = BankAccount(\"123456789\", 100)\n",
    "print(account.get_balance())  # 100\n",
    "\n",
    "\n",
    "# With the balance being public, we can change it directly, potentially causing data inconsistency or misuse:\n",
    "account.balance = 1000000\n",
    "print(account.get_balance())  # 1000000\n",
    "\n",
    "\n",
    "# Or even set it to nonsensical values:\n",
    "account.balance = -500\n",
    "print(account.get_balance())"
   ]
  },
  {
   "cell_type": "markdown",
   "metadata": {},
   "source": [
    "__ is the syntax for encapsulation"
   ]
  },
  {
   "cell_type": "code",
   "execution_count": 30,
   "metadata": {},
   "outputs": [
    {
     "name": "stdout",
     "output_type": "stream",
     "text": [
      "100\n",
      "100\n",
      "100\n",
      "200\n"
     ]
    }
   ],
   "source": [
    "#encapsulation\n",
    "class BankAccount:\n",
    "   def __init__(self, account_number, balance):\n",
    "       self.account_number = account_number\n",
    "       self.__balance = balance\n",
    "   def deposit(self, amount):\n",
    "       self.__balance += amount\n",
    "       return self.__balance\n",
    "   def withdraw(self, amount):\n",
    "       if amount > self.__balance:\n",
    "           print(\"Insufficient funds!\")\n",
    "           return\n",
    "       self.__balance -= amount\n",
    "       return self.__balance\n",
    "   def get_balance(self):\n",
    "       return self.__balance\n",
    "account = BankAccount(\"123456789\", 100)\n",
    "print(account.get_balance())\n",
    "account.balance = 1000000\n",
    "print(account.get_balance())\n",
    "account.balance = -500\n",
    "print(account.get_balance())\n",
    "account.deposit(100)\n",
    "print(account.get_balance())"
   ]
  },
  {
   "cell_type": "code",
   "execution_count": 42,
   "metadata": {},
   "outputs": [
    {
     "name": "stderr",
     "output_type": "stream",
     "text": [
      "A subdirectory or file madhesh already exists.\n"
     ]
    }
   ],
   "source": [
    "!mkdir madhesh\n"
   ]
  },
  {
   "cell_type": "code",
   "execution_count": 51,
   "metadata": {},
   "outputs": [],
   "source": [
    "import os\n",
    "os.rmdir(\"madhesh\")"
   ]
  },
  {
   "cell_type": "code",
   "execution_count": 54,
   "metadata": {},
   "outputs": [
    {
     "name": "stdout",
     "output_type": "stream",
     "text": [
      "\n"
     ]
    }
   ],
   "source": [
    "#file handling\n",
    "f=open(\"mad.txt\",\"+a\")\n",
    "f.write(\"jiji\")\n",
    "print(f.read())\n",
    "f.close()"
   ]
  }
 ],
 "metadata": {
  "kernelspec": {
   "display_name": "Python 3",
   "language": "python",
   "name": "python3"
  },
  "language_info": {
   "codemirror_mode": {
    "name": "ipython",
    "version": 3
   },
   "file_extension": ".py",
   "mimetype": "text/x-python",
   "name": "python",
   "nbconvert_exporter": "python",
   "pygments_lexer": "ipython3",
   "version": "3.12.2"
  }
 },
 "nbformat": 4,
 "nbformat_minor": 2
}
